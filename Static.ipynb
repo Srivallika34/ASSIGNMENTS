{
 "cells": [
  {
   "cell_type": "code",
   "execution_count": 1,
   "id": "b8f7340e-0dd7-4a1c-b57f-c1e087e73a75",
   "metadata": {},
   "outputs": [
    {
     "name": "stdout",
     "output_type": "stream",
     "text": [
      "Access through class: 100\n"
     ]
    }
   ],
   "source": [
    "#1. Define a static variable and access that through a class \n",
    "class Example1:\n",
    "    static_var = 100  \n",
    "\n",
    "print(\"Access through class:\", Example1.static_var)"
   ]
  },
  {
   "cell_type": "code",
   "execution_count": 2,
   "id": "2758da5f-c0df-433f-8555-dc050102f759",
   "metadata": {},
   "outputs": [
    {
     "name": "stdout",
     "output_type": "stream",
     "text": [
      "100\n"
     ]
    }
   ],
   "source": [
    "#2. Define a static variable and access that through a instance\n",
    "class Example:\n",
    "    static_var = 100  \n",
    "obj = Example()\n",
    "print(obj.static_var)"
   ]
  },
  {
   "cell_type": "code",
   "execution_count": 16,
   "id": "e2aa031f-72ab-47ed-8955-244c103b05f4",
   "metadata": {},
   "outputs": [
    {
     "name": "stdout",
     "output_type": "stream",
     "text": [
      "200\n",
      "200\n"
     ]
    }
   ],
   "source": [
    "#3. Define a static variable and change within the instance\n",
    "class Example:\n",
    "    static_var = 200  \n",
    "obj = Example()\n",
    "# Changing the static variable using the instance\n",
    "obj._class_static_var = 300  \n",
    "print(Example.static_var) \n",
    "print(obj.static_var)      "
   ]
  },
  {
   "cell_type": "code",
   "execution_count": 12,
   "id": "8c0f6c4c-89a6-4a7d-8f1d-574bbf6ef959",
   "metadata": {},
   "outputs": [
    {
     "name": "stdout",
     "output_type": "stream",
     "text": [
      "200\n"
     ]
    }
   ],
   "source": [
    "#4. Define a static variable and change within the class\n",
    "class Example:\n",
    "    static_var = 100  \n",
    "Example.static_var = 200  \n",
    "print(Example.static_var) "
   ]
  }
 ],
 "metadata": {
  "kernelspec": {
   "display_name": "Python 3 (ipykernel)",
   "language": "python",
   "name": "python3"
  },
  "language_info": {
   "codemirror_mode": {
    "name": "ipython",
    "version": 3
   },
   "file_extension": ".py",
   "mimetype": "text/x-python",
   "name": "python",
   "nbconvert_exporter": "python",
   "pygments_lexer": "ipython3",
   "version": "3.11.7"
  }
 },
 "nbformat": 4,
 "nbformat_minor": 5
}
