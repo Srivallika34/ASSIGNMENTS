{
 "cells": [
  {
   "cell_type": "code",
   "execution_count": 1,
   "id": "4694230a-f5f2-4cf1-bb91-1158622d1706",
   "metadata": {},
   "outputs": [
    {
     "name": "stdout",
     "output_type": "stream",
     "text": [
      "Student Dictionary: {101: 'Alice', 102: 'Bob', 103: 'Charlie', 104: 'David', 105: 'Emma'}\n",
      "\n"
     ]
    }
   ],
   "source": [
    "# 1.1. Adding the values in dictionary  \n",
    "\n",
    "students = {\n",
    "    101: \"Alice\",\n",
    "    102: \"Bob\",\n",
    "    103: \"Charlie\",\n",
    "    104: \"David\",\n",
    "    105: \"Emma\"\n",
    "}\n",
    "print(\"Student Dictionary:\", students)\n",
    "print()"
   ]
  },
  {
   "cell_type": "code",
   "execution_count": 2,
   "id": "08955ac7-6134-4214-89ce-5927d2c502a0",
   "metadata": {},
   "outputs": [
    {
     "name": "stdout",
     "output_type": "stream",
     "text": [
      "Updated Dictionary: {101: 'Alice', 102: 'Bob', 103: 'Charlie Brown', 104: 'David', 105: 'Emma'}\n",
      "\n"
     ]
    }
   ],
   "source": [
    "# 1.2. Updating the values in dictionary  \n",
    "\n",
    "students[103] = \"Charlie Brown\"\n",
    "print(\"Updated Dictionary:\", students)\n",
    "print()"
   ]
  },
  {
   "cell_type": "code",
   "execution_count": 3,
   "id": "ec8c54e1-bd89-447a-bd53-b1fdc889d29a",
   "metadata": {},
   "outputs": [
    {
     "name": "stdout",
     "output_type": "stream",
     "text": [
      "Accessing Student ID 102: Bob\n",
      "\n"
     ]
    }
   ],
   "source": [
    "# 1.3. Accessing the value in dictionary  \n",
    "\n",
    "print(\"Accessing Student ID 102:\", students[102])\n",
    "print()"
   ]
  },
  {
   "cell_type": "code",
   "execution_count": 4,
   "id": "0ee75840-7fc9-4cc0-a4e0-4b26239062de",
   "metadata": {},
   "outputs": [
    {
     "name": "stdout",
     "output_type": "stream",
     "text": [
      "Nested Dictionary: {101: {'Name': 'Alice', 'Age': 20, 'Grade': 'A'}, 102: {'Name': 'Bob', 'Age': 21, 'Grade': 'B'}, 103: {'Name': 'Charlie', 'Age': 22, 'Grade': 'A'}}\n",
      "\n"
     ]
    }
   ],
   "source": [
    "# 1.4. Create a nested loop dictionary  \n",
    "\n",
    "nested_students = {\n",
    "    101: {\"Name\": \"Alice\", \"Age\": 20, \"Grade\": \"A\"},\n",
    "    102: {\"Name\": \"Bob\", \"Age\": 21, \"Grade\": \"B\"},\n",
    "    103: {\"Name\": \"Charlie\", \"Age\": 22, \"Grade\": \"A\"},\n",
    "}\n",
    "print(\"Nested Dictionary:\", nested_students)\n",
    "print()"
   ]
  },
  {
   "cell_type": "code",
   "execution_count": 5,
   "id": "47af083f-6877-43e5-899b-25f0c7a5c9e6",
   "metadata": {},
   "outputs": [
    {
     "name": "stdout",
     "output_type": "stream",
     "text": [
      "Accessing Charlie's Age: 22\n",
      "\n"
     ]
    }
   ],
   "source": [
    "# 1.5. Access the values of nested loop dictionary  \n",
    "\n",
    "print(\"Accessing Charlie's Age:\", nested_students[103][\"Age\"])\n",
    "print()"
   ]
  },
  {
   "cell_type": "code",
   "execution_count": 6,
   "id": "b13b5ea7-8987-4e2a-b51f-bc392c5976e4",
   "metadata": {},
   "outputs": [
    {
     "name": "stdout",
     "output_type": "stream",
     "text": [
      "Keys in Student Dictionary: dict_keys([101, 102, 103, 104, 105])\n",
      "\n"
     ]
    }
   ],
   "source": [
    "# 1.6. Print the keys present in a particular dictionary  \n",
    "\n",
    "print(\"Keys in Student Dictionary:\", students.keys())\n",
    "print()"
   ]
  },
  {
   "cell_type": "code",
   "execution_count": 7,
   "id": "9af8a427-881f-4c41-b15f-8bc2896b789f",
   "metadata": {},
   "outputs": [
    {
     "name": "stdout",
     "output_type": "stream",
     "text": [
      "Dictionary after deletion: {101: 'Alice', 102: 'Bob', 103: 'Charlie Brown', 105: 'Emma'}\n"
     ]
    }
   ],
   "source": [
    "# 1.7. Delete a value from a dictionary  \n",
    "\n",
    "del students[104]\n",
    "print(\"Dictionary after deletion:\", students)"
   ]
  }
 ],
 "metadata": {
  "kernelspec": {
   "display_name": "Python 3 (ipykernel)",
   "language": "python",
   "name": "python3"
  },
  "language_info": {
   "codemirror_mode": {
    "name": "ipython",
    "version": 3
   },
   "file_extension": ".py",
   "mimetype": "text/x-python",
   "name": "python",
   "nbconvert_exporter": "python",
   "pygments_lexer": "ipython3",
   "version": "3.11.7"
  }
 },
 "nbformat": 4,
 "nbformat_minor": 5
}
