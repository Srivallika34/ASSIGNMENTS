{
 "cells": [
  {
   "cell_type": "code",
   "execution_count": 3,
   "id": "01d213a6-6cbd-4afc-ab01-292ccfacce5e",
   "metadata": {},
   "outputs": [
    {
     "name": "stdout",
     "output_type": "stream",
     "text": [
      "5\n",
      "6\n",
      "1\n",
      "1.5\n"
     ]
    }
   ],
   "source": [
    "#2.Operators\n",
    "#1. Write a function for arithmetic operators(+,-,*,/)\n",
    "a=3\n",
    "b=2\n",
    "print(a+b)\n",
    "print(a*b)\n",
    "print(a-b)\n",
    "print(a/b)"
   ]
  },
  {
   "cell_type": "code",
   "execution_count": 2,
   "id": "775f9e1b-c7fc-4c18-96bc-33b74ca7d9d0",
   "metadata": {},
   "outputs": [
    {
     "name": "stdout",
     "output_type": "stream",
     "text": [
      "Original value: 15\n",
      "After increment: 17\n",
      "After decrement: 12\n"
     ]
    }
   ],
   "source": [
    "#Write a method for increment and decrement operators(++, --)\n",
    "c = 15\n",
    "print(\"Original value:\", c)\n",
    "\n",
    "c += 2  # Increment\n",
    "print(\"After increment:\", c)\n",
    "\n",
    "c -= 5  # Decrement\n",
    "print(\"After decrement:\", c)"
   ]
  },
  {
   "cell_type": "code",
   "execution_count": 4,
   "id": "e474ad34-0ed8-4154-a21d-8a510a8b2067",
   "metadata": {},
   "outputs": [
    {
     "name": "stdout",
     "output_type": "stream",
     "text": [
      "10 and 2 are not equal.\n"
     ]
    }
   ],
   "source": [
    "#3. Write a program to find the two numbers equal or not.\n",
    "x = 10\n",
    "y = 2\n",
    "\n",
    "if x == y:\n",
    "    print(x, \"and\", y, \"are equal.\")\n",
    "else:\n",
    "    print(x, \"and\", y, \"are not equal.\")"
   ]
  },
  {
   "cell_type": "code",
   "execution_count": 7,
   "id": "bbc3805b-0a9c-48d5-8fcb-730f5ed26279",
   "metadata": {},
   "outputs": [
    {
     "name": "stdout",
     "output_type": "stream",
     "text": [
      "False\n",
      "False\n",
      "True\n",
      "True\n"
     ]
    }
   ],
   "source": [
    "#4. Program for relational operators (<,<==, >, >==)\n",
    "a = 25\n",
    "b = 20\n",
    "\n",
    "print(a < b)\n",
    "print(a <= b)\n",
    "print(a > b)\n",
    "print(a >= b)"
   ]
  },
  {
   "cell_type": "code",
   "execution_count": 6,
   "id": "374af60a-f373-43be-90aa-c62eb28e44fb",
   "metadata": {},
   "outputs": [
    {
     "name": "stdout",
     "output_type": "stream",
     "text": [
      "m is big\n"
     ]
    }
   ],
   "source": [
    "#5. Print the smaller and larger number\n",
    "m = 15\n",
    "n = 3\n",
    "if m>n:\n",
    "    print('m is big')\n",
    "else:\n",
    "    print('n is small')\n"
   ]
  }
 ],
 "metadata": {
  "kernelspec": {
   "display_name": "Python 3 (ipykernel)",
   "language": "python",
   "name": "python3"
  },
  "language_info": {
   "codemirror_mode": {
    "name": "ipython",
    "version": 3
   },
   "file_extension": ".py",
   "mimetype": "text/x-python",
   "name": "python",
   "nbconvert_exporter": "python",
   "pygments_lexer": "ipython3",
   "version": "3.11.7"
  }
 },
 "nbformat": 4,
 "nbformat_minor": 5
}
