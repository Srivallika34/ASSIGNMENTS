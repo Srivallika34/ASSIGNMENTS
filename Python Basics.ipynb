{
 "cells": [
  {
   "cell_type": "code",
   "execution_count": 30,
   "id": "781701d6-6c62-42f6-a1e0-067ff976b268",
   "metadata": {},
   "outputs": [
    {
     "name": "stdout",
     "output_type": "stream",
     "text": [
      "SRIVALLIKA PODILA\n"
     ]
    }
   ],
   "source": [
    "#1. Write a program to print your name.\n",
    "print(\"SRIVALLIKA PODILA\")"
   ]
  },
  {
   "cell_type": "code",
   "execution_count": 31,
   "id": "8e0169ae-3288-4a29-9442-cf6d0bd9e903",
   "metadata": {},
   "outputs": [
    {
     "name": "stdout",
     "output_type": "stream",
     "text": [
      "Comments in Python\n"
     ]
    }
   ],
   "source": [
    "#2. Write a program for a Single line comment and multi-line comments\n",
    "\"\"\"\n",
    "This is a multi-line comment.\n",
    "It can span multiple lines.\n",
    "\"\"\"\n",
    "print(\"Comments in Python\") "
   ]
  },
  {
   "cell_type": "code",
   "execution_count": 32,
   "id": "be2082a6-381d-4968-ac9f-1c1a3764643c",
   "metadata": {},
   "outputs": [
    {
     "name": "stdout",
     "output_type": "stream",
     "text": [
      "Integer: 10\n",
      "Character S\n",
      "Boolean True\n",
      "Float: 10.2\n"
     ]
    }
   ],
   "source": [
    "#3.Define variables for different Data Types int, Boolean, char, float, double and print on the Consol\n",
    "int_val=10\n",
    "char_val='S'\n",
    "bool_val=True\n",
    "float_val=10.2\n",
    "print(\"Integer:\",int_val)\n",
    "print(\"Character\",char_val)\n",
    "print(\"Boolean\",bool_val)\n",
    "print(\"Float:\",float_val)"
   ]
  },
  {
   "cell_type": "code",
   "execution_count": 33,
   "id": "2ef711ca-1cf3-411f-b749-0227225364a5",
   "metadata": {},
   "outputs": [
    {
     "name": "stdout",
     "output_type": "stream",
     "text": [
      "45\n",
      "50\n",
      "50\n"
     ]
    }
   ],
   "source": [
    "#4.Define the local and Global variables with the same name and print both variables and understand the scope of the variables\n",
    "val=45\n",
    "def num():\n",
    "    global val\n",
    "    print(val)\n",
    "    val=50\n",
    "    print(val)\n",
    "num()\n",
    "print(val)"
   ]
  },
  {
   "cell_type": "code",
   "execution_count": null,
   "id": "479a7670-4c4d-4e16-871c-cf199a1e7d94",
   "metadata": {},
   "outputs": [],
   "source": []
  },
 
