{
 "cells": [
  {
   "cell_type": "code",
   "execution_count": 1,
   "id": "29c8fed9-dcb9-46b1-8b8a-4e188785e8db",
   "metadata": {},
   "outputs": [
    {
     "name": "stdout",
     "output_type": "stream",
     "text": [
      "Bright IT Career\n",
      "Bright IT Career\n",
      "Bright IT Career\n",
      "Bright IT Career\n",
      "Bright IT Career\n",
      "Bright IT Career\n",
      "Bright IT Career\n",
      "Bright IT Career\n",
      "Bright IT Career\n",
      "Bright IT Career\n"
     ]
    }
   ],
   "source": [
    "#1. Write a program to print “Bright IT Career” ten times using for loop\n",
    "for i in range (10):\n",
    "    print('Bright IT Career')"
   ]
  },
  {
   "cell_type": "code",
   "execution_count": 2,
   "id": "ff38a365-618e-45d5-b902-43e217cd641d",
   "metadata": {},
   "outputs": [
    {
     "name": "stdout",
     "output_type": "stream",
     "text": [
      "1\n",
      "2\n",
      "3\n",
      "4\n",
      "5\n",
      "6\n",
      "7\n",
      "8\n",
      "9\n",
      "10\n",
      "11\n",
      "12\n",
      "13\n",
      "14\n",
      "15\n",
      "16\n",
      "17\n",
      "18\n",
      "19\n",
      "20\n"
     ]
    }
   ],
   "source": [
    "#2. Write a program to print 1 to 20 numbers using the while loop.\n",
    "n = 1  \n",
    "\n",
    "while n <= 20:  \n",
    "    print(n)  \n",
    "    n += 1  "
   ]
  },
  {
   "cell_type": "code",
   "execution_count": 3,
   "id": "f5cabddf-5e45-4688-a54f-8b582f1f659b",
   "metadata": {},
   "outputs": [
    {
     "name": "stdout",
     "output_type": "stream",
     "text": [
      "Equal Operator: False\n",
      "Not Equal Operator: True\n"
     ]
    }
   ],
   "source": [
    "#3. Program to equal operator and not equal operators\n",
    "a = 10\n",
    "b = 20\n",
    "\n",
    "print(\"Equal Operator:\", a == b)  \n",
    "print(\"Not Equal Operator:\", a != b)  "
   ]
  },
  {
   "cell_type": "code",
   "execution_count": 4,
   "id": "20a21591-a1f8-4431-85b7-87ed1565e488",
   "metadata": {},
   "outputs": [
    {
     "name": "stdout",
     "output_type": "stream",
     "text": [
      "1 is Odd\n",
      "2 is Even\n",
      "3 is Odd\n",
      "4 is Even\n",
      "5 is Odd\n",
      "6 is Even\n",
      "7 is Odd\n",
      "8 is Even\n",
      "9 is Odd\n"
     ]
    }
   ],
   "source": [
    "#4. Write a program to print the odd and even numbers\n",
    "for i in range(1, 10):\n",
    "    if i % 2 == 0:\n",
    "        print(i, \"is Even\")\n",
    "    else:\n",
    "        print(i, \"is Odd\")"
   ]
  },
  {
   "cell_type": "code",
   "execution_count": 5,
   "id": "7b15935a-3ee3-4464-9f41-c2727acc4712",
   "metadata": {},
   "outputs": [
    {
     "name": "stdout",
     "output_type": "stream",
     "text": [
      "100\n"
     ]
    }
   ],
   "source": [
    "#5. Write a program to print largest number among three numbers.\n",
    "a =10\n",
    "b=78\n",
    "c=100\n",
    "print(max(a,b,c))"
   ]
  },
  {
   "cell_type": "code",
   "execution_count": 6,
   "id": "0a9de20b-333d-449f-ac63-61b40d6647ab",
   "metadata": {},
   "outputs": [
    {
     "name": "stdout",
     "output_type": "stream",
     "text": [
      "10 12 14 16 18 20 "
     ]
    }
   ],
   "source": [
    "#6. Write a program to print even number between 10 and 20 using while\n",
    "m = 10\n",
    "while m <= 20:\n",
    "    if m % 2 == 0:\n",
    "        print(m, end=\" \")\n",
    "    m += 1"
   ]
  },
  {
   "cell_type": "code",
   "execution_count": 7,
   "id": "b3421e43-98a4-4fb3-a62c-6295f2bb8772",
   "metadata": {},
   "outputs": [
    {
     "name": "stdout",
     "output_type": "stream",
     "text": [
      "1\n",
      "2\n",
      "3\n",
      "4\n",
      "5\n",
      "6\n",
      "7\n",
      "8\n",
      "9\n",
      "10\n"
     ]
    }
   ],
   "source": [
    "#7. Write a program to print 1 to 10 using the do-while loop statement.\n",
    "num = 1\n",
    "while True:\n",
    "    print(num)\n",
    "    num += 1\n",
    "    if num > 10:\n",
    "        break"
   ]
  },
  {
   "cell_type": "code",
   "execution_count": 8,
   "id": "f5b9b7e4-13b9-45d8-94ef-b1e2bcdf32fb",
   "metadata": {},
   "outputs": [
    {
     "name": "stdin",
     "output_type": "stream",
     "text": [
      " 156\n"
     ]
    },
    {
     "name": "stdout",
     "output_type": "stream",
     "text": [
      "156 is not an Armstrong number\n"
     ]
    }
   ],
   "source": [
    "#8. Write a program to find Armstrong number or not\n",
    "s = int(input())\n",
    "sum = 0\n",
    "temp = s\n",
    "\n",
    "while temp > 0:\n",
    "    digit = temp % 10\n",
    "    sum += digit ** 3\n",
    "    temp //= 10\n",
    "\n",
    "if s == sum:\n",
    "    print(s, \"is an Armstrong number\")\n",
    "else:\n",
    "    print(s, \"is not an Armstrong number\")"
   ]
  },
  {
   "cell_type": "code",
   "execution_count": 9,
   "id": "596c7ead-3de9-465c-b5d8-60dd2525ec7e",
   "metadata": {},
   "outputs": [
    {
     "name": "stdin",
     "output_type": "stream",
     "text": [
      " 11\n"
     ]
    },
    {
     "name": "stdout",
     "output_type": "stream",
     "text": [
      "11 is a Prime number\n"
     ]
    }
   ],
   "source": [
    "#9. Write a program to find the prime or not.\n",
    "y = int(input())\n",
    "if y > 1:\n",
    "    for i in range(2, int(y ** 0.5) + 1):\n",
    "        if y % i == 0:\n",
    "            print(y, \"is not a Prime number\")\n",
    "            break\n",
    "    else:\n",
    "        print(y, \"is a Prime number\")\n",
    "else:\n",
    "    print(y, \"is not a Prime number\")"
   ]
  },
  {
   "cell_type": "code",
   "execution_count": 10,
   "id": "37b0cbaa-1bc0-443c-84e0-1e3c32263b46",
   "metadata": {},
   "outputs": [
    {
     "name": "stdout",
     "output_type": "stream",
     "text": [
      "121 is a Palindrome\n"
     ]
    }
   ],
   "source": [
    "#10. Write a program to palindrome or not.\n",
    "x = 121\n",
    "if str(x) == str(x)[::-1]:\n",
    "    print(x, \"is a Palindrome\")\n",
    "else:\n",
    "    print(x, \"is not a Palindrome\")"
   ]
  },
  {
   "cell_type": "code",
   "execution_count": 11,
   "id": "50c44772-68ca-4fbb-b4f6-53044d406db8",
   "metadata": {},
   "outputs": [
    {
     "name": "stdin",
     "output_type": "stream",
     "text": [
      " 12\n"
     ]
    },
    {
     "name": "stdout",
     "output_type": "stream",
     "text": [
      "odd\n"
     ]
    }
   ],
   "source": [
    "#11. Program to check whether a number is EVEN or ODD using switch\n",
    "d = int(input())\n",
    "if d%2==0:\n",
    "    print('odd')\n",
    "else:\n",
    "    print('even')"
   ]
  },
  {
   "cell_type": "code",
   "execution_count": 12,
   "id": "8c6254a3-7972-4a2c-880b-dbcc9cc4ca27",
   "metadata": {},
   "outputs": [
    {
     "name": "stdout",
     "output_type": "stream",
     "text": [
      "Male\n"
     ]
    }
   ],
   "source": [
    "#12. Print gender (Male/Female) program according to given M/F using switch\n",
    "gender = 'M'\n",
    "\n",
    "match gender.upper():\n",
    "    case 'M':\n",
    "        print(\"Male\")\n",
    "    case 'F':\n",
    "        print(\"Female\")\n",
    "    case _:\n",
    "        print(\"Invalid input\")"
   ]
  }
 ],
 "metadata": {
  "kernelspec": {
   "display_name": "Python 3 (ipykernel)",
   "language": "python",
   "name": "python3"
  },
  "language_info": {
   "codemirror_mode": {
    "name": "ipython",
    "version": 3
   },
   "file_extension": ".py",
   "mimetype": "text/x-python",
   "name": "python",
   "nbconvert_exporter": "python",
   "pygments_lexer": "ipython3",
   "version": "3.11.7"
  }
 },
 "nbformat": 4,
 "nbformat_minor": 5
}
