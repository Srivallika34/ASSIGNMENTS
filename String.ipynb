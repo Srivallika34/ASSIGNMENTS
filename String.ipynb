{
 "cells": [
  {
   "cell_type": "code",
   "execution_count": 1,
   "id": "c035c3f6-2c3e-41c6-9cbf-aadd3cf5829b",
   "metadata": {},
   "outputs": [
    {
     "name": "stdout",
     "output_type": "stream",
     "text": [
      "Hello, World!\n",
      "Hello, Python!\n",
      "This is a multi-line\n",
      "string example.\n",
      "Another multi-line\n",
      "string example.\n"
     ]
    }
   ],
   "source": [
    "#1. Different ways creating a string\n",
    "str1 = \"Hello, World!\"  \n",
    "str2 = 'Hello, Python!' \n",
    "str3 = \"\"\"This is a multi-line\n",
    "string example.\"\"\"  \n",
    "str4 = '''Another multi-line\n",
    "string example.'''  \n",
    "\n",
    "print(str1, str2, str3, str4, sep=\"\\n\")"
   ]
  },
  {
   "cell_type": "code",
   "execution_count": 2,
   "id": "ce287837-d3d1-480c-b896-610dead02b40",
   "metadata": {},
   "outputs": [
    {
     "name": "stdout",
     "output_type": "stream",
     "text": [
      "Concatenated String: Hello World\n"
     ]
    }
   ],
   "source": [
    "#2. Concatenating two strings using + operator\n",
    "str_a = \"Hello\"\n",
    "str_b = \"World\"\n",
    "concatenated = str_a + \" \" + str_b\n",
    "print(\"Concatenated String:\", concatenated)"
   ]
  },
  {
   "cell_type": "code",
   "execution_count": 3,
   "id": "e00b1857-1d01-426c-8cff-33e009347fc4",
   "metadata": {},
   "outputs": [
    {
     "name": "stdout",
     "output_type": "stream",
     "text": [
      "Length of string: 13\n"
     ]
    }
   ],
   "source": [
    "#3. Finding the length of the string\n",
    "str_length = len(str1)\n",
    "print(\"Length of string:\", str_length)"
   ]
  },
  {
   "cell_type": "code",
   "execution_count": 4,
   "id": "95413703-6a6d-499d-9faf-1ec6817034d4",
   "metadata": {},
   "outputs": [
    {
     "name": "stdout",
     "output_type": "stream",
     "text": [
      "Extracted substring: World\n"
     ]
    }
   ],
   "source": [
    "#4. Extract a string using Substring\n",
    "\n",
    "substring = str1[7:12] \n",
    "print(\"Extracted substring:\", substring)"
   ]
  },
  {
   "cell_type": "code",
   "execution_count": 5,
   "id": "ce25d153-858f-462a-8b78-453da8daeae5",
   "metadata": {},
   "outputs": [
    {
     "name": "stdout",
     "output_type": "stream",
     "text": [
      "Index of 'is': 7\n"
     ]
    }
   ],
   "source": [
    "#5. Searching in strings using index()\n",
    "search_string = \"Python is fun\"\n",
    "index = search_string.index(\"is\")  \n",
    "print(\"Index of 'is':\", index)"
   ]
  },
  {
   "cell_type": "code",
   "execution_count": 6,
   "id": "dae49890-c37b-484c-84f6-5035c86db5be",
   "metadata": {},
   "outputs": [
    {
     "name": "stdout",
     "output_type": "stream",
     "text": [
      "Matched: 12345\n"
     ]
    }
   ],
   "source": [
    "#6. Matching a String Against a Regular Expression With matches()\n",
    "import re\n",
    "pattern = r\"\\d+\"  # Matches one or more digits\n",
    "match = re.search(pattern, \"Order number: 12345\")\n",
    "if match:\n",
    "    print(\"Matched:\", match.group())"
   ]
  },
  {
   "cell_type": "code",
   "execution_count": 7,
   "id": "fe96171f-4143-4421-9880-72b77808d484",
   "metadata": {},
   "outputs": [
    {
     "name": "stdout",
     "output_type": "stream",
     "text": [
      "Strings are equal: False\n",
      "String comparison (lexicographic): True\n"
     ]
    }
   ],
   "source": [
    "#7. Comparing strings\n",
    "str_x = \"apple\"\n",
    "str_y = \"banana\"\n",
    "print(\"Strings are equal:\", str_x == str_y)\n",
    "print(\"String comparison (lexicographic):\", str_x < str_y)"
   ]
  },
  {
   "cell_type": "code",
   "execution_count": 8,
   "id": "2fd4e454-a65d-4826-bf1f-130405d693b0",
   "metadata": {},
   "outputs": [
    {
     "name": "stdout",
     "output_type": "stream",
     "text": [
      "Starts with 'Hello': True\n",
      "Ends with 'world!': True\n"
     ]
    }
   ],
   "source": [
    "#8. startsWith(), endsWith() and compareTo()\n",
    "str_check = \"Hello, world!\"\n",
    "print(\"Starts with 'Hello':\", str_check.startswith(\"Hello\"))\n",
    "print(\"Ends with 'world!':\", str_check.endswith(\"world!\"))"
   ]
  },
  {
   "cell_type": "code",
   "execution_count": 9,
   "id": "8a871d0d-41f0-46e9-82bb-dafb9b09b49e",
   "metadata": {},
   "outputs": [
    {
     "name": "stdout",
     "output_type": "stream",
     "text": [
      "Trimmed string: Hello, World!\n"
     ]
    }
   ],
   "source": [
    "#9. Trimming strings with strip()\n",
    "str_trim = \"   Hello, World!   \"\n",
    "print(\"Trimmed string:\", str_trim.strip())"
   ]
  },
  {
   "cell_type": "code",
   "execution_count": 10,
   "id": "7a9c9c29-0a83-45a4-9c35-15ff71c5b4b7",
   "metadata": {},
   "outputs": [
    {
     "name": "stdout",
     "output_type": "stream",
     "text": [
      "After replacement: I like Python\n"
     ]
    }
   ],
   "source": [
    "#10. Replacing characters in strings with replace()\n",
    "str_replace = \"I like Java\"\n",
    "new_str = str_replace.replace(\"Java\", \"Python\")\n",
    "print(\"After replacement:\", new_str)"
   ]
  }
 ],
 "metadata": {
  "kernelspec": {
   "display_name": "Python 3 (ipykernel)",
   "language": "python",
   "name": "python3"
  },
  "language_info": {
   "codemirror_mode": {
    "name": "ipython",
    "version": 3
   },
   "file_extension": ".py",
   "mimetype": "text/x-python",
   "name": "python",
   "nbconvert_exporter": "python",
   "pygments_lexer": "ipython3",
   "version": "3.11.7"
  }
 },
 "nbformat": 4,
 "nbformat_minor": 5
}
