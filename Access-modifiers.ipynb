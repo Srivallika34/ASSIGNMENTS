{
 "cells": [
  {
   "cell_type": "code",
   "execution_count": 6,
   "id": "0473d792-54eb-4c46-9e7e-931f8dc03d19",
   "metadata": {},
   "outputs": [
    {
     "name": "stdout",
     "output_type": "stream",
     "text": [
      "Private Variable in Parent\n",
      "Private Method in Parent\n",
      "Cannot access private variable from subclass\n",
      "Cannot access private method from subclass\n"
     ]
    }
   ],
   "source": [
    "# 1. Create a class with PRIVATE fields, private method and a main method. Print the fields\n",
    "# in main method. Call the private method in main method.\n",
    "# Create a sub class and try to access the private fields and methods from sub class.\n",
    "class Parent:\n",
    "    def __init__(self):\n",
    "        self.__private_var = \"Private Variable in Parent\"\n",
    "\n",
    "    def __private_method(self):\n",
    "        print(\"Private Method in Parent\")\n",
    "\n",
    "    def access_private_method(self):\n",
    "        self.__private_method()\n",
    "\n",
    "    def get_private_var(self):\n",
    "        return self.__private_var\n",
    "\n",
    "class Child(Parent):\n",
    "    def access_parent_private(self):\n",
    "        try:\n",
    "            print(self.__private_var)\n",
    "        except AttributeError:\n",
    "            print(\"Cannot access private variable from subclass\")\n",
    "\n",
    "        try:\n",
    "            self.__private_method()\n",
    "        except AttributeError:\n",
    "            print(\"Cannot access private method from subclass\")\n",
    "\n",
    "class Main:\n",
    "    def main():\n",
    "        obj = Parent()\n",
    "        print(obj.get_private_var())\n",
    "        obj.access_private_method()\n",
    "\n",
    "        child_obj = Child()\n",
    "        child_obj.access_parent_private()\n",
    "\n",
    "Main.main()"
   ]
  },
  {
   "cell_type": "code",
   "execution_count": 7,
   "id": "9039cd99-8d80-4275-be95-73768748a70a",
   "metadata": {},
   "outputs": [
    {
     "name": "stdout",
     "output_type": "stream",
     "text": [
      "Accessing from the same module: Protected Variable in Parent\n",
      "Protected Method in Parent\n"
     ]
    }
   ],
   "source": [
    "# 2. Create a class with PROTECTED fields and methods. Access these fields and methods\n",
    "# from any other class in the same package.\n",
    "# Also, Access the PROTECTED fields and methods from child class located in a different\n",
    "# package\n",
    "# Access the PROTECTED fields and methods from any class in different package\n",
    "class Parent:\n",
    "    def __init__(self):\n",
    "        self._protected_var = \"Protected Variable in Parent\"\n",
    "\n",
    "    def _protected_method(self):\n",
    "        print(\"Protected Method in Parent\")\n",
    "\n",
    "class OtherClass:\n",
    "    def access_protected():\n",
    "        obj = Parent()\n",
    "        print(\"Accessing from the same module:\", obj._protected_var)\n",
    "        obj._protected_method()\n",
    "\n",
    "if __name__ == \"__main__\":\n",
    "    OtherClass.access_protected()"
   ]
  },
  {
   "cell_type": "code",
   "execution_count": 4,
   "id": "4ce582d3-ec6f-49ff-aa4f-21233b06caf9",
   "metadata": {},
   "outputs": [
    {
     "name": "stdout",
     "output_type": "stream",
     "text": [
      "\n",
      "### Overridden method with superclass reference ###\n",
      "Overridden method in Class A\n",
      "Overridden method in Class B\n",
      "Overridden method in Class C\n"
     ]
    }
   ],
   "source": [
    "      "
   ]
  },
  {
   "cell_type": "code",
   "execution_count": 5,
   "id": "438ff23d-12f3-48c3-ad53-cdb91009da57",
   "metadata": {},
   "outputs": [
    {
     "name": "stdout",
     "output_type": "stream",
     "text": [
      "\n",
      "### Runtime Polymorphism with Data Members ###\n",
      "Variable in Class A\n",
      "Variable in Class A Variable in Class B\n",
      "Variable in Class A Variable in Class B Variable in Class C\n"
     ]
    }
   ],
   "source": [
    "       "
   ]
  },
  {
   "cell_type": "code",
   "execution_count": null,
   "id": "707025da-5549-47fa-8ad8-37965e6157df",
   "metadata": {},
   "outputs": [],
   "source": []
  }
 ],
 "metadata": {
  "kernelspec": {
   "display_name": "Python 3 (ipykernel)",
   "language": "python",
   "name": "python3"
  },
  "language_info": {
   "codemirror_mode": {
    "name": "ipython",
    "version": 3
   },
   "file_extension": ".py",
   "mimetype": "text/x-python",
   "name": "python",
   "nbconvert_exporter": "python",
   "pygments_lexer": "ipython3",
   "version": "3.11.7"
  }
 },
 "nbformat": 4,
 "nbformat_minor": 5
}
