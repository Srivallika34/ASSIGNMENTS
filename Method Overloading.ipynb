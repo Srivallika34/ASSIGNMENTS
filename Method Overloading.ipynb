{
 "cells": [
  {
   "cell_type": "code",
   "execution_count": 1,
   "id": "42bd2c63-8f42-4965-8db9-e89c8e4d22de",
   "metadata": {},
   "outputs": [
    {
     "name": "stdout",
     "output_type": "stream",
     "text": [
      "Single parameter: 5\n",
      "Two parameters: 15\n",
      "\n"
     ]
    }
   ],
   "source": [
    "# 1. Write two methods with the same name but different number of parameters of same type and call the methods  \n",
    "\n",
    "class MethodOverloading1:\n",
    "    def add(self, a, b=None):\n",
    "        if b is None:\n",
    "            print(f\"Single parameter: {a}\")\n",
    "        else:\n",
    "            print(f\"Two parameters: {a + b}\")\n",
    "\n",
    "obj1 = MethodOverloading1()\n",
    "obj1.add(5)\n",
    "obj1.add(5, 10)\n",
    "print()"
   ]
  },
  {
   "cell_type": "code",
   "execution_count": 2,
   "id": "50b36514-603c-4aa7-8106-77a85462a08b",
   "metadata": {},
   "outputs": [
    {
     "name": "stdout",
     "output_type": "stream",
     "text": [
      "Integer parameter: 10\n",
      "String and Integer parameters: Hello, 20\n",
      "\n"
     ]
    }
   ],
   "source": [
    "# 2. Write two methods with the same name but different number of parameters of different data type and call the methods  \n",
    "\n",
    "class MethodOverloading2:\n",
    "    def display(self, a=None, b=None):\n",
    "        if isinstance(a, int) and b is None:\n",
    "            print(f\"Integer parameter: {a}\")\n",
    "        elif isinstance(a, str) and isinstance(b, int):\n",
    "            print(f\"String and Integer parameters: {a}, {b}\")\n",
    "\n",
    "obj2 = MethodOverloading2()\n",
    "obj2.display(10)\n",
    "obj2.display(\"Hello\", 20)\n",
    "print()"
   ]
  },
  {
   "cell_type": "code",
   "execution_count": null,
   "id": "a3734b92-874c-49f7-8e11-589b774c7ca3",
   "metadata": {},
   "outputs": [],
   "source": []
  }
 ],
 "metadata": {
  "kernelspec": {
   "display_name": "Python 3 (ipykernel)",
   "language": "python",
   "name": "python3"
  },
  "language_info": {
   "codemirror_mode": {
    "name": "ipython",
    "version": 3
   },
   "file_extension": ".py",
   "mimetype": "text/x-python",
   "name": "python",
   "nbconvert_exporter": "python",
   "pygments_lexer": "ipython3",
   "version": "3.11.7"
  }
 },
 "nbformat": 4,
 "nbformat_minor": 5
}
