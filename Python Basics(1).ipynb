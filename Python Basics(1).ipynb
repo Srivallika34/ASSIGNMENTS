{
 "cells": [
  {
   "cell_type": "code",
   "execution_count": 1,
   "id": "57244d38-df8a-4d22-8661-397c9e5e81de",
   "metadata": {},
   "outputs": [
    {
     "name": "stdout",
     "output_type": "stream",
     "text": [
      "SRIVALLIKA PODILA\n"
     ]
    }
   ],
   "source": [
    "#1. Write a program to print your name.\n",
    "print(\"SRIVALLIKA PODILA\")"
   ]
  },
  {
   "cell_type": "code",
   "execution_count": 2,
   "id": "e53c42f0-08d9-45d5-929e-d3fab447d128",
   "metadata": {},
   "outputs": [
    {
     "name": "stdout",
     "output_type": "stream",
     "text": [
      "Comments in Python\n"
     ]
    }
   ],
   "source": [
    "#2. Write a program for a Single line comment and multi-line comments\n",
    "\"\"\"\n",
    "This is a multi-line comment.\n",
    "It can span multiple lines.\n",
    "\"\"\"\n",
    "print(\"Comments in Python\") "
   ]
  },
  {
   "cell_type": "code",
   "execution_count": null,
   "id": "8f457c13-21ce-4203-8ebb-fd274e7de5c3",
   "metadata": {},
   "outputs": [],
   "source": [
    "#3.Define variables for different Data Types int, Boolean, char, float, double and print on the Console\n",
    "int_val=10\n",
    "char_val='S'\n",
    "bool_val=True\n",
    "float_val=10.2\n",
    "print(\"Integer:\",int_val)\n",
    "print(\"Character\",char_val)\n",
    "print(\"Boolean\",bool_val)\n",
    "print(\"Float:\",float_val)"
   ]
  },
  {
   "cell_type": "code",
   "execution_count": 3,
   "id": "0e22f71a-edea-4628-8576-3aac6a7431ba",
   "metadata": {},
   "outputs": [
    {
     "name": "stdout",
     "output_type": "stream",
     "text": [
      "Inside function: I am a local variable\n",
      "Outside function: I am a global variable\n"
     ]
    }
   ],
   "source": [
    "#4. Define the local and Global variables with the same name and print both variables and understand the scope of the variables\n",
    "global_var = \"I am a global variable\" \n",
    "\n",
    "def my_function():\n",
    "    global_var = \"I am a local variable\"  \n",
    "    print(\"Inside function:\", global_var) \n",
    "\n",
    "my_function()\n",
    "print(\"Outside function:\", global_var)  "
   ]
  }
 ],
 "metadata": {
  "kernelspec": {
   "display_name": "Python 3 (ipykernel)",
   "language": "python",
   "name": "python3"
  },
  "language_info": {
   "codemirror_mode": {
    "name": "ipython",
    "version": 3
   },
   "file_extension": ".py",
   "mimetype": "text/x-python",
   "name": "python",
   "nbconvert_exporter": "python",
   "pygments_lexer": "ipython3",
   "version": "3.11.7"
  }
 },
 "nbformat": 4,
 "nbformat_minor": 5
}
