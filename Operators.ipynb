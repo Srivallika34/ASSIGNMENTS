{
 "cells": [
  {
   "cell_type": "code",
   "execution_count": 22,
   "id": "781701d6-6c62-42f6-a1e0-067ff976b268",
   "metadata": {},
   "outputs": [
    {
     "name": "stdout",
     "output_type": "stream",
     "text": [
      "6\n",
      "8\n",
      "2\n",
      "2.0\n"
     ]
    }
   ],
   "source": [
    "#2.Operators\n",
    "#1. Write a function for arithmetic operators(+,-,*,/)\n",
    "a=4\n",
    "b=2\n",
    "print(a+b)\n",
    "print(a*b)\n",
    "print(a-b)\n",
    "print(a/b)"
   ]
  },
  {
   "cell_type": "code",
   "execution_count": 24,
   "id": "8e0169ae-3288-4a29-9442-cf6d0bd9e903",
   "metadata": {},
   "outputs": [
    {
     "name": "stdout",
     "output_type": "stream",
     "text": [
      "Original value: 12\n",
      "After increment: 14\n",
      "After decrement: 9\n"
     ]
    }
   ],
   "source": [
    "#Write a method for increment and decrement operators(++, --)\n",
    "c = 12\n",
    "print(\"Original value:\", c)\n",
    "\n",
    "c += 2  # Increment\n",
    "print(\"After increment:\", c)\n",
    "\n",
    "c -= 5  # Decrement\n",
    "print(\"After decrement:\", c)"
   ]
  },
  {
   "cell_type": "code",
   "execution_count": 25,
   "id": "be2082a6-381d-4968-ac9f-1c1a3764643c",
   "metadata": {},
   "outputs": [
    {
     "name": "stdout",
     "output_type": "stream",
     "text": [
      "12 and 2 are not equal.\n"
     ]
    }
   ],
   "source": [
    "#3. Write a program to find the two numbers equal or not.\n",
    "x = 12\n",
    "y = 2\n",
    "\n",
    "if x == y:\n",
    "    print(x, \"and\", y, \"are equal.\")\n",
    "else:\n",
    "    print(x, \"and\", y, \"are not equal.\")"
   ]
  },
  {
   "cell_type": "code",
   "execution_count": 27,
   "id": "2ef711ca-1cf3-411f-b749-0227225364a5",
   "metadata": {},
   "outputs": [
    {
     "name": "stdout",
     "output_type": "stream",
     "text": [
      "False\n",
      "False\n",
      "True\n",
      "True\n"
     ]
    }
   ],
   "source": [
    "#4. Program for relational operators (<,<==, >, >==)\n",
    "a = 25\n",
    "b = 20\n",
    "\n",
    "print(a < b)\n",
    "print(a <= b)\n",
    "print(a > b)\n",
    "print(a >= b)"
   ]
  },
  {
   "cell_type": "code",
   "execution_count": 28,
   "id": "479a7670-4c4d-4e16-871c-cf199a1e7d94",
   "metadata": {},
   "outputs": [
    {
     "name": "stdout",
     "output_type": "stream",
     "text": [
      "m is big\n"
     ]
    }
   ],
   "source": [
    "#5. Print the smaller and larger number\n",
    "m = 12\n",
    "n = 3\n",
    "if m>n:\n",
    "    print('m is big')\n",
    "else:\n",
    "    print('n is small')"
   ]
  },
  {
   "cell_type": "code",
   "execution_count": 15,
   "id": "d2950cff-ac0b-47f7-bced-bbc27d997e94",
   "metadata": {},
   "outputs": [
    {
     "name": "stdout",
     "output_type": "stream",
     "text": [
      "10 12 14 16 18 20 "
     ]
    }
   ],
   "source": [
    "#6. Write a program to print even number between 10 and 20 using while\n",
    "m = 10\n",
    "while m <= 20:\n",
    "    if m % 2 == 0:\n",
    "        print(m, end=\" \")\n",
    "    m += 1"
   ]
  },
  {
   "cell_type": "code",
   "execution_count": 16,
   "id": "deced99e-7589-46a4-b5a7-90ae82457846",
   "metadata": {},
   "outputs": [
    {
     "name": "stdout",
     "output_type": "stream",
     "text": [
      "1\n",
      "2\n",
      "3\n",
      "4\n",
      "5\n",
      "6\n",
      "7\n",
      "8\n",
      "9\n",
      "10\n"
     ]
    }
   ],
   "source": [
    "#7. Write a program to print 1 to 10 using the do-while loop statement.\n",
    "num = 1\n",
    "while True:\n",
    "    print(num)\n",
    "    num += 1\n",
    "    if num > 10:\n",
    "        break"
   ]
  },
  {
   "cell_type": "code",
   "execution_count": 17,
   "id": "84f881a3-5b6d-449d-b040-d4eede100b7b",
   "metadata": {},
   "outputs": [
    {
     "name": "stdin",
     "output_type": "stream",
     "text": [
      " 131\n"
     ]
    },
    {
     "name": "stdout",
     "output_type": "stream",
     "text": [
      "131 is not an Armstrong number\n"
     ]
    }
   ],
   "source": [
    "\n",
    "#8. Write a program to find Armstrong number or not\n",
    "s = int(input())\n",
    "sum = 0\n",
    "temp = s\n",
    "\n",
    "while temp > 0:\n",
    "    digit = temp % 10\n",
    "    sum += digit ** 3\n",
    "    temp //= 10\n",
    "\n",
    "if s == sum:\n",
    "    print(s, \"is an Armstrong number\")\n",
    "else:\n",
    "    print(s, \"is not an Armstrong number\")"
   ]
  },
  {
   "cell_type": "code",
   "execution_count": 18,
   "id": "f8982957-9375-455d-b2af-1cd70fca9684",
   "metadata": {},
   "outputs": [
    {
     "name": "stdin",
     "output_type": "stream",
     "text": [
      " 11\n"
     ]
    },
    {
     "name": "stdout",
     "output_type": "stream",
     "text": [
      "11 is a Prime number\n"
     ]
    }
   ],
   "source": [
    "\n",
    "#9. Write a program to find the prime or not.\n",
    "y = int(input())\n",
    "if y > 1:\n",
    "    for i in range(2, int(y ** 0.5) + 1):\n",
    "        if y % i == 0:\n",
    "            print(y, \"is not a Prime number\")\n",
    "            break\n",
    "    else:\n",
    "        print(y, \"is a Prime number\")"
   ]
  },
  {
   "cell_type": "code",
   "execution_count": 19,
   "id": "76ff51de-f264-4e68-8c00-ee6380c491e7",
   "metadata": {},
   "outputs": [
    {
     "name": "stdin",
     "output_type": "stream",
     "text": [
      " 12\n"
     ]
    },
    {
     "name": "stdout",
     "output_type": "stream",
     "text": [
      "odd\n"
     ]
    }
   ],
   "source": [
    "#11. Program to check whether a number is EVEN or ODD using switch\n",
    "d = int(input())\n",
    "if d%2==0:\n",
    "    print('odd')\n",
    "else:\n",
    "    print('even')"
   ]
  },
  {
   "cell_type": "code",
   "execution_count": 20,
   "id": "83a4918c-541c-4002-967b-7d37bb916827",
   "metadata": {},
   "outputs": [
    {
     "name": "stdout",
     "output_type": "stream",
     "text": [
      "Male\n"
     ]
    }
   ],
   "source": [
    "#12. Print gender (Male/Female) program according to given M/F using switch\n",
    "gender = 'M'\n",
    "match gender.upper():\n",
    "    case 'M':\n",
    "        print(\"Male\")\n",
    "    case 'F':\n",
    "        print(\"Female\")\n",
    "    case _:\n",
    "        print(\"Invalid input\")"
   ]
  }
 ],
 "metadata": {
  "kernelspec": {
   "display_name": "Python 3 (ipykernel)",
   "language": "python",
   "name": "python3"
  },
  "language_info": {
   "codemirror_mode": {
    "name": "ipython",
    "version": 3
   },
   "file_extension": ".py",
   "mimetype": "text/x-python",
   "name": "python",
   "nbconvert_exporter": "python",
   "pygments_lexer": "ipython3",
   "version": "3.11.7"
  }
 },
 "nbformat": 4,
 "nbformat_minor": 5
}
