{
 "cells": [
  {
   "cell_type": "code",
   "execution_count": 1,
   "id": "901bdb13-72f2-4d0c-b960-a0757d64071f",
   "metadata": {},
   "outputs": [
    {
     "name": "stdout",
     "output_type": "stream",
     "text": [
      "Default Constructor Called\n",
      "One Argument Constructor Called: 10\n",
      "Two Argument Constructor Called: 10, 20\n",
      "\n"
     ]
    }
   ],
   "source": [
    "# 1. Write a class with a default constructor, one argument constructor, and two argument constructors. \n",
    "\n",
    "class MyClass:\n",
    "    def __init__(self, a=None, b=None):\n",
    "        if a is None and b is None:\n",
    "            print(\"Default Constructor Called\")\n",
    "        elif b is None:\n",
    "            print(f\"One Argument Constructor Called: {a}\")\n",
    "        else:\n",
    "            print(f\"Two Argument Constructor Called: {a}, {b}\")\n",
    "\n",
    "\n",
    "obj1 = MyClass()          \n",
    "obj2 = MyClass(10)       \n",
    "obj3 = MyClass(10, 20)   \n",
    "print()"
   ]
  },
  {
   "cell_type": "code",
   "execution_count": 2,
   "id": "91834ed1-ae35-48d2-b5d6-8403882c7339",
   "metadata": {},
   "outputs": [
    {
     "name": "stdout",
     "output_type": "stream",
     "text": [
      "Parent Default Constructor\n",
      "Child Default Constructor\n",
      "Parent Argument Constructor: 50\n",
      "Child Argument Constructor: 50\n",
      "\n"
     ]
    }
   ],
   "source": [
    "# 2. Call the constructors (both default and argument constructors) of super class from a child class.\n",
    "\n",
    "class Parent:\n",
    "    def __init__(self, x=None):\n",
    "        if x is None:\n",
    "            print(\"Parent Default Constructor\")\n",
    "        else:\n",
    "            print(f\"Parent Argument Constructor: {x}\")\n",
    "\n",
    "class Child(Parent):\n",
    "    def __init__(self, y=None):\n",
    "        if y is None:\n",
    "            super().__init__()  \n",
    "            print(\"Child Default Constructor\")\n",
    "        else:\n",
    "            super().__init__(y)  \n",
    "            print(f\"Child Argument Constructor: {y}\")\n",
    "\n",
    "\n",
    "child1 = Child()       \n",
    "child2 = Child(50)     \n",
    "print()"
   ]
  },
  {
   "cell_type": "code",
   "execution_count": 3,
   "id": "e2320e05-12d7-43f3-896e-b1a47caf00b2",
   "metadata": {},
   "outputs": [
    {
     "name": "stdout",
     "output_type": "stream",
     "text": [
      "Public Constructor Called\n",
      "Protected Method Called\n",
      "\n"
     ]
    }
   ],
   "source": [
    "# 3. Apply private, public, protected, and default access modifiers to the constructor.\n",
    "\n",
    "class AccessModifiers:\n",
    "    def __init__(self):          # Public Constructor\n",
    "        print(\"Public Constructor Called\")\n",
    "\n",
    "    def _protected_method(self): # Protected Method\n",
    "        print(\"Protected Method Called\")\n",
    "\n",
    "    def __private_method(self):  # Private Method\n",
    "        print(\"Private Method Called\")\n",
    "# Creating object\n",
    "obj = AccessModifiers()\n",
    "obj._protected_method()   \n",
    "print()"
   ]
  },
  {
   "cell_type": "code",
   "execution_count": 4,
   "id": "5564b6b3-976f-4e38-a8d0-44b2a1fb44db",
   "metadata": {},
   "outputs": [
    {
     "name": "stdout",
     "output_type": "stream",
     "text": [
      "Name: Alice, Age: 30\n"
     ]
    }
   ],
   "source": [
    "# 4. Write a program which illustrates the concept of attributes of a constructor.\n",
    "\n",
    "class AttributesExample:\n",
    "    def __init__(self, name, age):\n",
    "        self.name = name  \n",
    "        self.age = age   \n",
    "    \n",
    "    def display(self):\n",
    "        print(f\"Name: {self.name}, Age: {self.age}\")\n",
    "\n",
    "person = AttributesExample(\"Alice\", 30)\n",
    "person.display()"
   ]
  }
 ],
 "metadata": {
  "kernelspec": {
   "display_name": "Python 3 (ipykernel)",
   "language": "python",
   "name": "python3"
  },
  "language_info": {
   "codemirror_mode": {
    "name": "ipython",
    "version": 3
   },
   "file_extension": ".py",
   "mimetype": "text/x-python",
   "name": "python",
   "nbconvert_exporter": "python",
   "pygments_lexer": "ipython3",
   "version": "3.11.7"
  }
 },
 "nbformat": 4,
 "nbformat_minor": 5
}
