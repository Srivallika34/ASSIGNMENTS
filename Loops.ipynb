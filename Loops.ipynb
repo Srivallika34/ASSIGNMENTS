{
 "cells": [
  {
   "cell_type": "code",
   "execution_count": 10,
   "id": "781701d6-6c62-42f6-a1e0-067ff976b268",
   "metadata": {},
   "outputs": [
    {
     "name": "stdout",
     "output_type": "stream",
     "text": [
      "Bright IT Career\n",
      "Bright IT Career\n",
      "Bright IT Career\n",
      "Bright IT Career\n",
      "Bright IT Career\n",
      "Bright IT Career\n",
      "Bright IT Career\n",
      "Bright IT Career\n",
      "Bright IT Career\n",
      "Bright IT Career\n"
     ]
    }
   ],
   "source": [
    "#1. Write a program to print “Bright IT Career” ten times using for loop\n",
    "for i in range (10):\n",
    "    print('Bright IT Career')"
   ]
  },
  {
   "cell_type": "code",
   "execution_count": 11,
   "id": "8e0169ae-3288-4a29-9442-cf6d0bd9e903",
   "metadata": {},
   "outputs": [
    {
     "name": "stdout",
     "output_type": "stream",
     "text": [
      "1\n",
      "2\n",
      "3\n",
      "4\n",
      "5\n",
      "6\n",
      "7\n",
      "8\n",
      "9\n",
      "10\n",
      "11\n",
      "12\n",
      "13\n",
      "14\n",
      "15\n",
      "16\n",
      "17\n",
      "18\n",
      "19\n",
      "20\n"
     ]
    }
   ],
   "source": [
    "#2. Write a program to print 1 to 20 numbers using the while loop.\n",
    "n = 1  \n",
    "\n",
    "while n <= 20:  \n",
    "    print(n)  \n",
    "    n += 1  "
   ]
  },
  {
   "cell_type": "code",
   "execution_count": 12,
   "id": "be2082a6-381d-4968-ac9f-1c1a3764643c",
   "metadata": {},
   "outputs": [
    {
     "name": "stdout",
     "output_type": "stream",
     "text": [
      "Equal Operator: False\n",
      "Not Equal Operator: True\n"
     ]
    }
   ],
   "source": [
    "#3. Program to equal operator and not equal operators\n",
    "a = 10\n",
    "b = 20\n",
    "\n",
    "print(\"Equal Operator:\", a == b)  \n",
    "print(\"Not Equal Operator:\", a != b)"
   ]
  },
  {
   "cell_type": "code",
   "execution_count": 13,
   "id": "2ef711ca-1cf3-411f-b749-0227225364a5",
   "metadata": {},
   "outputs": [
    {
     "name": "stdout",
     "output_type": "stream",
     "text": [
      "1 is Odd\n",
      "2 is Even\n",
      "3 is Odd\n",
      "4 is Even\n",
      "5 is Odd\n",
      "6 is Even\n",
      "7 is Odd\n",
      "8 is Even\n",
      "9 is Odd\n"
     ]
    }
   ],
   "source": [
    "#4. Write a program to print the odd and even numbers\n",
    "for i in range(1, 10):\n",
    "    if i % 2 == 0:\n",
    "        print(i, \"is Even\")\n",
    "    else:\n",
    "        print(i, \"is Odd\")"
   ]
  },
  {
   "cell_type": "code",
   "execution_count": 14,
   "id": "479a7670-4c4d-4e16-871c-cf199a1e7d94",
   "metadata": {},
   "outputs": [
    {
     "name": "stdout",
     "output_type": "stream",
     "text": [
      "100\n"
     ]
    }
   ],
   "source": [
    "#5. Write a program to print largest number among three numbers.\n",
    "a =10\n",
    "b=78\n",
    "c=100\n",
    "print(max(a,b,c))"
   ]
  },
  {
   "cell_type": "code",
   "execution_count": 15,
   "id": "d2950cff-ac0b-47f7-bced-bbc27d997e94",
   "metadata": {},
   "outputs": [
    {
     "name": "stdout",
     "output_type": "stream",
     "text": [
      "10 12 14 16 18 20 "
     ]
    }
   ],
   "source": [
    "#6. Write a program to print even number between 10 and 20 using while\n",
    "m = 10\n",
    "while m <= 20:\n",
    "    if m % 2 == 0:\n",
    "        print(m, end=\" \")\n",
    "    m += 1"
   ]
  },
  {
   "cell_type": "code",
   "execution_count": 16,
   "id": "deced99e-7589-46a4-b5a7-90ae82457846",
   "metadata": {},
   "outputs": [
    {
     "name": "stdout",
     "output_type": "stream",
     "text": [
      "1\n",
      "2\n",
      "3\n",
      "4\n",
      "5\n",
      "6\n",
      "7\n",
      "8\n",
      "9\n",
      "10\n"
     ]
    }
   ],
   "source": [
    "#7. Write a program to print 1 to 10 using the do-while loop statement.\n",
    "num = 1\n",
    "while True:\n",
    "    print(num)\n",
    "    num += 1\n",
    "    if num > 10:\n",
    "        break"
   ]
  },
  {
   "cell_type": "code",
   "execution_count": 17,
   "id": "84f881a3-5b6d-449d-b040-d4eede100b7b",
   "metadata": {},
   "outputs": [
    {
     "name": "stdin",
     "output_type": "stream",
     "text": [
      " 131\n"
     ]
    },
    {
     "name": "stdout",
     "output_type": "stream",
     "text": [
      "131 is not an Armstrong number\n"
     ]
    }
   ],
   "source": [
    "\n",
    "#8. Write a program to find Armstrong number or not\n",
    "s = int(input())\n",
    "sum = 0\n",
    "temp = s\n",
    "\n",
    "while temp > 0:\n",
    "    digit = temp % 10\n",
    "    sum += digit ** 3\n",
    "    temp //= 10\n",
    "\n",
    "if s == sum:\n",
    "    print(s, \"is an Armstrong number\")\n",
    "else:\n",
    "    print(s, \"is not an Armstrong number\")"
   ]
  },
  {
   "cell_type": "code",
   "execution_count": 18,
   "id": "f8982957-9375-455d-b2af-1cd70fca9684",
   "metadata": {},
   "outputs": [
    {
     "name": "stdin",
     "output_type": "stream",
     "text": [
      " 11\n"
     ]
    },
    {
     "name": "stdout",
     "output_type": "stream",
     "text": [
      "11 is a Prime number\n"
     ]
    }
   ],
   "source": [
    "\n",
    "#9. Write a program to find the prime or not.\n",
    "y = int(input())\n",
    "if y > 1:\n",
    "    for i in range(2, int(y ** 0.5) + 1):\n",
    "        if y % i == 0:\n",
    "            print(y, \"is not a Prime number\")\n",
    "            break\n",
    "    else:\n",
    "        print(y, \"is a Prime number\")"
   ]
  },
  {
   "cell_type": "code",
   "execution_count": 19,
   "id": "76ff51de-f264-4e68-8c00-ee6380c491e7",
   "metadata": {},
   "outputs": [
    {
     "name": "stdin",
     "output_type": "stream",
     "text": [
      " 12\n"
     ]
    },
    {
     "name": "stdout",
     "output_type": "stream",
     "text": [
      "odd\n"
     ]
    }
   ],
   "source": [
    "#11. Program to check whether a number is EVEN or ODD using switch\n",
    "d = int(input())\n",
    "if d%2==0:\n",
    "    print('odd')\n",
    "else:\n",
    "    print('even')"
   ]
  },
  {
   "cell_type": "code",
   "execution_count": null,
   "id": "83a4918c-541c-4002-967b-7d37bb916827",
   "metadata": {},
   "outputs": [],
   "source": [
    "#12. Print gender (Male/Female) program according to given M/F using switch\n",
    "gender = 'M'\n",
    "\n",
    "match gender.upper():\n",
    "    case 'M':\n",
    "        print(\"Male\")\n",
    "    case 'F':\n",
    "        print(\"Female\")\n",
    "    case _:\n",
    "        print(\"Invalid input\")"
   ]
  }
 ],
 "metadata": {
  "kernelspec": {
   "display_name": "Python 3 (ipykernel)",
   "language": "python",
   "name": "python3"
  },
  "language_info": {
   "codemirror_mode": {
    "name": "ipython",
    "version": 3
   },
   "file_extension": ".py",
   "mimetype": "text/x-python",
   "name": "python",
   "nbconvert_exporter": "python",
   "pygments_lexer": "ipython3",
   "version": "3.11.7"
  }
 },
 "nbformat": 4,
 "nbformat_minor": 5
}
